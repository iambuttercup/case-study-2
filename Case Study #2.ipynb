{
 "cells": [
  {
   "cell_type": "markdown",
   "id": "874af555",
   "metadata": {},
   "source": [
    "# Case Study 2"
   ]
  },
  {
   "cell_type": "code",
   "execution_count": 1,
   "id": "be218212",
   "metadata": {
    "ExecuteTime": {
     "end_time": "2022-04-30T04:01:57.767824Z",
     "start_time": "2022-04-30T04:01:57.751541Z"
    }
   },
   "outputs": [],
   "source": [
    "#Case Study #2\n",
    "#There is 1 dataset(csv) with 3 years worth of customer orders. There are 4 columns in the csv dataset: index, CUSTOMER_EMAIL(unique identifier as hash), Net_Revenue, and Year.\n",
    "#For each year we need the following information:"
   ]
  },
  {
   "cell_type": "code",
   "execution_count": 2,
   "id": "3f5ee1fa",
   "metadata": {
    "ExecuteTime": {
     "end_time": "2022-04-30T04:01:59.728047Z",
     "start_time": "2022-04-30T04:01:58.422307Z"
    }
   },
   "outputs": [],
   "source": [
    "#import libraries\n",
    "import pandas as pd\n",
    "import matplotlib.pyplot as plt\n",
    "import seaborn as sns\n",
    "import numpy as np"
   ]
  },
  {
   "cell_type": "code",
   "execution_count": 3,
   "id": "aed3fead",
   "metadata": {
    "ExecuteTime": {
     "end_time": "2022-04-30T04:02:00.074756Z",
     "start_time": "2022-04-30T04:01:59.729074Z"
    }
   },
   "outputs": [
    {
     "data": {
      "text/html": [
       "<div>\n",
       "<style scoped>\n",
       "    .dataframe tbody tr th:only-of-type {\n",
       "        vertical-align: middle;\n",
       "    }\n",
       "\n",
       "    .dataframe tbody tr th {\n",
       "        vertical-align: top;\n",
       "    }\n",
       "\n",
       "    .dataframe thead th {\n",
       "        text-align: right;\n",
       "    }\n",
       "</style>\n",
       "<table border=\"1\" class=\"dataframe\">\n",
       "  <thead>\n",
       "    <tr style=\"text-align: right;\">\n",
       "      <th></th>\n",
       "      <th>customer_email</th>\n",
       "      <th>net_revenue</th>\n",
       "      <th>year</th>\n",
       "    </tr>\n",
       "  </thead>\n",
       "  <tbody>\n",
       "    <tr>\n",
       "      <th>0</th>\n",
       "      <td>nhknapwsbx@gmail.com</td>\n",
       "      <td>249.92</td>\n",
       "      <td>2015</td>\n",
       "    </tr>\n",
       "    <tr>\n",
       "      <th>1</th>\n",
       "      <td>joiuzbvcpn@gmail.com</td>\n",
       "      <td>87.61</td>\n",
       "      <td>2015</td>\n",
       "    </tr>\n",
       "    <tr>\n",
       "      <th>2</th>\n",
       "      <td>ukkjctepxt@gmail.com</td>\n",
       "      <td>168.38</td>\n",
       "      <td>2015</td>\n",
       "    </tr>\n",
       "    <tr>\n",
       "      <th>3</th>\n",
       "      <td>gykatilzrt@gmail.com</td>\n",
       "      <td>62.40</td>\n",
       "      <td>2015</td>\n",
       "    </tr>\n",
       "    <tr>\n",
       "      <th>4</th>\n",
       "      <td>mmsgsrtxah@gmail.com</td>\n",
       "      <td>43.08</td>\n",
       "      <td>2015</td>\n",
       "    </tr>\n",
       "  </tbody>\n",
       "</table>\n",
       "</div>"
      ],
      "text/plain": [
       "          customer_email  net_revenue  year\n",
       "0   nhknapwsbx@gmail.com       249.92  2015\n",
       "1   joiuzbvcpn@gmail.com        87.61  2015\n",
       "2   ukkjctepxt@gmail.com       168.38  2015\n",
       "3   gykatilzrt@gmail.com        62.40  2015\n",
       "4   mmsgsrtxah@gmail.com        43.08  2015"
      ]
     },
     "execution_count": 3,
     "metadata": {},
     "output_type": "execute_result"
    }
   ],
   "source": [
    "#read data\n",
    "data = pd.read_csv('casestudy.csv')\n",
    "data = data.drop('Unnamed: 0',axis = 1)\n",
    "data.head(5)"
   ]
  },
  {
   "cell_type": "code",
   "execution_count": 4,
   "id": "82982dc6",
   "metadata": {
    "ExecuteTime": {
     "end_time": "2022-04-30T04:02:00.099287Z",
     "start_time": "2022-04-30T04:02:00.076049Z"
    }
   },
   "outputs": [
    {
     "name": "stdout",
     "output_type": "stream",
     "text": [
      "Total revenue for 2015 is 29036749.19\n",
      "Total revenue for 2016 is 25730943.59\n",
      "Total revenue for 2017 is 31417495.03\n"
     ]
    }
   ],
   "source": [
    "#For each year we need the following information:\n",
    "#•\tTotal revenue for the current year\n",
    "print('Total revenue for 2015 is',round(data[data['year'] == 2015]['net_revenue'].sum(),2))\n",
    "print('Total revenue for 2016 is',round(data[data['year'] == 2016]['net_revenue'].sum(),2))\n",
    "print('Total revenue for 2017 is',round(data[data['year'] == 2017]['net_revenue'].sum(),2))"
   ]
  },
  {
   "cell_type": "code",
   "execution_count": 5,
   "id": "ce944fad",
   "metadata": {
    "ExecuteTime": {
     "end_time": "2022-04-30T04:02:00.597502Z",
     "start_time": "2022-04-30T04:02:00.100872Z"
    }
   },
   "outputs": [
    {
     "name": "stdout",
     "output_type": "stream",
     "text": [
      "New Customer Revenue in 2016 is 18245491.01\n",
      "New Customer Revenue in 2017 is 28776235.04\n"
     ]
    }
   ],
   "source": [
    "#•\tNew Customer Revenue e.g. new customers not present in previous year only\n",
    "data_1 = data.set_index('customer_email')\n",
    "s1 = data_1[data_1['year'] == 2015]\n",
    "s2 = data_1[data_1['year'] == 2016]\n",
    "s3 = data_1[data_1['year'] == 2017]\n",
    "new_customer_2016 = s2.loc[s2.index.difference(s1.index)]['net_revenue'].sum()\n",
    "new_customer_2017 = s3.loc[s3.index.difference(s2.index)]['net_revenue'].sum()\n",
    "\n",
    "print('New Customer Revenue in 2016 is',round(new_customer_2016,2))\n",
    "print('New Customer Revenue in 2017 is',round(new_customer_2017,2))"
   ]
  },
  {
   "cell_type": "code",
   "execution_count": 6,
   "id": "1f960d80",
   "metadata": {
    "ExecuteTime": {
     "end_time": "2022-04-30T04:02:00.701203Z",
     "start_time": "2022-04-30T04:02:00.598864Z"
    }
   },
   "outputs": [
    {
     "name": "stdout",
     "output_type": "stream",
     "text": [
      "Existing Customer Revenue growth in 2016 is -74.0 %\n",
      "Existing Customer Revenue growth in 2017 is -90.0 %\n"
     ]
    }
   ],
   "source": [
    "#•\tExisting Customer Growth. \n",
    "#To calculate this,\n",
    "#use the Revenue of existing customers for current year –(minus) Revenue of existing customers from the previous year\n",
    "exist_cus_growth_2016 = (s2.loc[s2.index.intersection(s1.index)]['net_revenue'].sum()-s1['net_revenue'].sum())/s1['net_revenue'].sum()\n",
    "exist_cus_growth_2017 = (s3.loc[s3.index.intersection(s2.index)]['net_revenue'].sum()-s2['net_revenue'].sum())/s2['net_revenue'].sum()\n",
    "\n",
    "print('Existing Customer Revenue growth in 2016 is',round(exist_cus_growth_2016,2)*100,'%')\n",
    "print('Existing Customer Revenue growth in 2017 is',round(exist_cus_growth_2017,2)*100,'%')"
   ]
  },
  {
   "cell_type": "code",
   "execution_count": 7,
   "id": "a5b39eaa",
   "metadata": {
    "ExecuteTime": {
     "end_time": "2022-04-30T04:02:01.110460Z",
     "start_time": "2022-04-30T04:02:00.702165Z"
    }
   },
   "outputs": [
    {
     "name": "stdout",
     "output_type": "stream",
     "text": [
      "Revenue lost from attrition in 2016 is -21571632.07\n",
      "Revenue lost from attrition in 2017 is -23110294.94\n"
     ]
    }
   ],
   "source": [
    "#•\tRevenue lost from attrition\n",
    "lost_customer_2016 = s1.loc[s1.index.difference(s2.index)]['net_revenue'].sum()\n",
    "lost_customer_2017 = s2.loc[s2.index.difference(s3.index)]['net_revenue'].sum()\n",
    "\n",
    "print('Revenue lost from attrition in 2016 is',round(-lost_customer_2016,2))\n",
    "print('Revenue lost from attrition in 2017 is',round(-lost_customer_2017,2))"
   ]
  },
  {
   "cell_type": "code",
   "execution_count": 8,
   "id": "1d29ed63",
   "metadata": {
    "ExecuteTime": {
     "end_time": "2022-04-30T04:02:01.195186Z",
     "start_time": "2022-04-30T04:02:01.111882Z"
    }
   },
   "outputs": [
    {
     "name": "stdout",
     "output_type": "stream",
     "text": [
      "Existing Customer Revenue in 2016 is 7485452.58\n",
      "Existing Customer Revenue in 2017 is 2641259.99\n"
     ]
    }
   ],
   "source": [
    "#•\tExisting Customer Revenue Current Year\n",
    "exist_cus_2016 = s2.loc[s2.index.intersection(s1.index)]['net_revenue'].sum()\n",
    "exist_cus_2017 = s3.loc[s3.index.intersection(s2.index)]['net_revenue'].sum()\n",
    "\n",
    "print('Existing Customer Revenue in 2016 is',round(exist_cus_2016,2))\n",
    "print('Existing Customer Revenue in 2017 is',round(exist_cus_2017,2))"
   ]
  },
  {
   "cell_type": "code",
   "execution_count": 9,
   "id": "73ebd4a1",
   "metadata": {
    "ExecuteTime": {
     "end_time": "2022-04-30T04:02:01.280218Z",
     "start_time": "2022-04-30T04:02:01.196708Z"
    }
   },
   "outputs": [
    {
     "name": "stdout",
     "output_type": "stream",
     "text": [
      "Existing Customer Revenue in 2015 is 7465117.12\n",
      "Existing Customer Revenue in 2016 is 2620648.65\n"
     ]
    }
   ],
   "source": [
    "#•\tExisting Customer Revenue Prior Year\n",
    "exist_cus_pri_2015 = s1.loc[s1.index.intersection(s2.index)]['net_revenue'].sum()\n",
    "exist_cus_pri_2016 = s2.loc[s2.index.intersection(s3.index)]['net_revenue'].sum()\n",
    "\n",
    "print('Existing Customer Revenue in 2015 is',round(exist_cus_pri_2015,2))\n",
    "print('Existing Customer Revenue in 2016 is',round(exist_cus_pri_2016,2))"
   ]
  },
  {
   "cell_type": "code",
   "execution_count": 10,
   "id": "58033ff9",
   "metadata": {
    "ExecuteTime": {
     "end_time": "2022-04-30T04:02:01.330599Z",
     "start_time": "2022-04-30T04:02:01.281521Z"
    }
   },
   "outputs": [
    {
     "name": "stdout",
     "output_type": "stream",
     "text": [
      "Total Customers in 2015 is 231294\n",
      "Total Customers in 2016 is 204646\n",
      "Total Customers in 2017 is 249987\n"
     ]
    }
   ],
   "source": [
    "#•\tTotal Customers Current Year\n",
    "total_customer_2015 = data[data['year'] == 2015].count()[0]\n",
    "total_customer_2016 = data[data['year'] == 2016].count()[0]\n",
    "total_customer_2017 = data[data['year'] == 2017].count()[0]\n",
    "\n",
    "print('Total Customers in 2015 is',total_customer_2015)\n",
    "print('Total Customers in 2016 is',total_customer_2016)\n",
    "print('Total Customers in 2017 is',total_customer_2017)"
   ]
  },
  {
   "cell_type": "code",
   "execution_count": 11,
   "id": "8ef9db1f",
   "metadata": {
    "ExecuteTime": {
     "end_time": "2022-04-30T04:02:01.365748Z",
     "start_time": "2022-04-30T04:02:01.331624Z"
    }
   },
   "outputs": [
    {
     "name": "stdout",
     "output_type": "stream",
     "text": [
      "In 2016, total Customers of previous year(2015) is 231294\n",
      "In 2017, total Customers of previsou year(2016) is 204646\n"
     ]
    }
   ],
   "source": [
    "#Total Customers Previous Year\n",
    "total_customer_2016 = data[data['year'] == 2016].count()[0]\n",
    "total_customer_2017 = data[data['year'] == 2017].count()[0]\n",
    "\n",
    "print('In 2016, total Customers of previous year(2015) is',total_customer_2015)\n",
    "print('In 2017, total Customers of previsou year(2016) is',total_customer_2016)\n"
   ]
  },
  {
   "cell_type": "code",
   "execution_count": 12,
   "id": "c50fbeb9",
   "metadata": {
    "ExecuteTime": {
     "end_time": "2022-04-30T04:02:01.797279Z",
     "start_time": "2022-04-30T04:02:01.366606Z"
    }
   },
   "outputs": [
    {
     "name": "stdout",
     "output_type": "stream",
     "text": [
      "In 2016, total new Customers is 145062\n",
      "In 2017, total new Customers is 229028\n"
     ]
    }
   ],
   "source": [
    "#•\tNew Customers\n",
    "new_customer_num_2016 = s2.loc[s2.index.difference(s1.index)].count()[0]\n",
    "new_customer_num_2017 = s3.loc[s3.index.difference(s2.index)].count()[0]\n",
    "\n",
    "print('In 2016, total new Customers is',new_customer_num_2016)\n",
    "print('In 2017, total new Customers is',new_customer_num_2017)"
   ]
  },
  {
   "cell_type": "code",
   "execution_count": 13,
   "id": "7a9bfcae",
   "metadata": {
    "ExecuteTime": {
     "end_time": "2022-04-30T04:02:02.194686Z",
     "start_time": "2022-04-30T04:02:01.799256Z"
    }
   },
   "outputs": [
    {
     "name": "stdout",
     "output_type": "stream",
     "text": [
      "In 2016, the number of lost Customers is 171710\n",
      "In 2017, the number of lost Customers is 183687\n"
     ]
    }
   ],
   "source": [
    "#•\tLost Customers\n",
    "lost_customer_num_2016 = s1.loc[s1.index.difference(s2.index)].count()[0]\n",
    "lost_customer_num_2017 = s2.loc[s2.index.difference(s3.index)].count()[0]\n",
    "\n",
    "print('In 2016, the number of lost Customers is',lost_customer_num_2016)\n",
    "print('In 2017, the number of lost Customers is',lost_customer_num_2017)"
   ]
  },
  {
   "cell_type": "code",
   "execution_count": 27,
   "id": "3fd0eb3e",
   "metadata": {
    "ExecuteTime": {
     "end_time": "2022-04-30T04:05:01.584253Z",
     "start_time": "2022-04-30T04:05:01.394227Z"
    }
   },
   "outputs": [
    {
     "data": {
      "image/png": "[encoded data removed]",
      "text/plain": [
       "<Figure size 800x600 with 2 Axes>"
      ]
     },
     "metadata": {},
     "output_type": "display_data"
    }
   ],
   "source": [
    "#Additionally, generate a few unique plots highlighting some information from the dataset. Are there any interesting observations?\n",
    "#The total amount of customer number and total net revenue in each year\n",
    "name = [\"2015\",\"2016\",\"2017\"]\n",
    "y1 = np.round(data.groupby('year').count()['customer_email'].values,2)\n",
    "y2 = np.round(data.groupby('year').sum()['net_revenue'].values,2)\n",
    "\n",
    "x = np.arange(len(name))\n",
    "width = 0.25\n",
    "\n",
    "fig,ax1 = plt.subplots(figsize = (8,6))\n",
    "ax2 = ax1.twinx()\n",
    "l1 = ax1.bar(x, y1,  width=width, label='total customer number', facecolor = 'lightskyblue', edgecolor = 'white',tick_label=name)\n",
    "l2 = ax2.bar(x + width, y2, width=width, label='total net revenue',facecolor = 'yellowgreen', edgecolor = 'white')\n",
    "\n",
    "\n",
    "plt.legend([l1,l2],['total customer number','total net revenue']) \n",
    "ax1.set_ylabel('customer number')\n",
    "ax2.set_ylabel('net revenue')\n",
    "plt.title('The total customer and total net revenue')\n",
    "plt.show()"
   ]
  },
  {
   "cell_type": "markdown",
   "id": "5fee4281",
   "metadata": {},
   "source": [
    "From the plot above, we can see that the total customer number and total net revenue decreased in 2016 and increased in 2017. Plus, the total customer number and total net revenue has positive correlation."
   ]
  },
  {
   "cell_type": "code",
   "execution_count": 28,
   "id": "cb934661",
   "metadata": {
    "ExecuteTime": {
     "end_time": "2022-04-30T04:05:04.207854Z",
     "start_time": "2022-04-30T04:05:03.613090Z"
    }
   },
   "outputs": [
    {
     "data": {
      "image/png": "[encoded data removed]",
      "text/plain": [
       "<Figure size 800x600 with 1 Axes>"
      ]
     },
     "metadata": {},
     "output_type": "display_data"
    }
   ],
   "source": [
    "#New Customers\n",
    "new_customer_data =  pd.merge(s2.loc[s2.index.difference(s1.index)],s3.loc[s3.index.difference(s2.index)],how = 'outer')\n",
    "fig = plt.figure(figsize = (8,6))\n",
    "sns.boxplot(x='year', y='net_revenue', data = new_customer_data)\n",
    "plt.title('The net revenue for new customers in current years')\n",
    "plt.show()"
   ]
  },
  {
   "cell_type": "markdown",
   "id": "70905e39",
   "metadata": {},
   "source": [
    "From the plot above, we can see that the mean of net revenue for new customers in 2016 and 2017 has slight difference, whereas the total net revenue in 2017 is more than toal net revenue in 2016, indicating that the amount of new customer is the determinent that increased the total revenue."
   ]
  },
  {
   "cell_type": "code",
   "execution_count": null,
   "id": "ddd8ea80",
   "metadata": {},
   "outputs": [],
   "source": []
  }
 ],
 "metadata": {
  "hide_input": false,
  "kernelspec": {
   "display_name": "Python 3",
   "language": "python",
   "name": "python3"
  },
  "language_info": {
   "codemirror_mode": {
    "name": "ipython",
    "version": 3
   },
   "file_extension": ".py",
   "mimetype": "text/x-python",
   "name": "python",
   "nbconvert_exporter": "python",
   "pygments_lexer": "ipython3",
   "version": "3.8.8"
  },
  "toc": {
   "base_numbering": 1,
   "nav_menu": {},
   "number_sections": true,
   "sideBar": true,
   "skip_h1_title": false,
   "title_cell": "Table of Contents",
   "title_sidebar": "Contents",
   "toc_cell": false,
   "toc_position": {},
   "toc_section_display": true,
   "toc_window_display": false
  }
 },
 "nbformat": 4,
 "nbformat_minor": 5
}
